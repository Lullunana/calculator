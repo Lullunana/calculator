{
 "cells": [
  {
   "cell_type": "code",
   "execution_count": 1,
   "id": "bfff5858-11cb-4ae4-9fee-004da59ddac2",
   "metadata": {},
   "outputs": [],
   "source": [
    "import math\n",
    "from collections import Counter, defaultdict\n",
    "from functools import partial"
   ]
  },
  {
   "cell_type": "code",
   "execution_count": 2,
   "id": "e7cd8f0c-c160-4449-a2c3-44c12a25bb10",
   "metadata": {},
   "outputs": [],
   "source": [
    "inputs = [\n",
    "        ({'level':'Senior','lang':'Java','tweets':'no','phd':'no'},   False),\n",
    "        ({'level':'Senior','lang':'Java','tweets':'no','phd':'yes'},  False),\n",
    "        ({'level':'Mid','lang':'Python','tweets':'no','phd':'no'},     True),\n",
    "        ({'level':'Junior','lang':'Python','tweets':'no','phd':'no'},  True),\n",
    "        ({'level':'Junior','lang':'R','tweets':'yes','phd':'no'},      True),\n",
    "        ({'level':'Junior','lang':'R','tweets':'yes','phd':'yes'},    False),\n",
    "        ({'level':'Mid','lang':'R','tweets':'yes','phd':'yes'},        True),\n",
    "        ({'level':'Senior','lang':'Python','tweets':'no','phd':'no'}, False),\n",
    "        ({'level':'Senior','lang':'R','tweets':'yes','phd':'no'},      True),\n",
    "        ({'level':'Junior','lang':'Python','tweets':'yes','phd':'no'}, True),\n",
    "        ({'level':'Senior','lang':'Python','tweets':'yes','phd':'yes'},True),\n",
    "        ({'level':'Mid','lang':'Python','tweets':'no','phd':'yes'},    True),\n",
    "        ({'level':'Mid','lang':'Java','tweets':'yes','phd':'no'},      True),\n",
    "        ({'level':'Junior','lang':'Python','tweets':'no','phd':'yes'},False)\n",
    "    ]"
   ]
  },
  {
   "cell_type": "code",
   "execution_count": 3,
   "id": "867e4121-da7e-4efa-aa16-11a23246044a",
   "metadata": {},
   "outputs": [
    {
     "data": {
      "text/plain": [
       "{'level': 'Senior', 'lang': 'Java', 'tweets': 'no', 'phd': 'no'}"
      ]
     },
     "execution_count": 3,
     "metadata": {},
     "output_type": "execute_result"
    }
   ],
   "source": [
    "inputs[0][0]"
   ]
  },
  {
   "cell_type": "code",
   "execution_count": 4,
   "id": "2e70164c-5ac3-44c3-8116-63ce43419351",
   "metadata": {},
   "outputs": [
    {
     "data": {
      "text/plain": [
       "False"
      ]
     },
     "execution_count": 4,
     "metadata": {},
     "output_type": "execute_result"
    }
   ],
   "source": [
    "inputs[0][1]"
   ]
  },
  {
   "cell_type": "code",
   "execution_count": 5,
   "id": "ef13ba4a-a333-4d8d-948a-2b747300d8d5",
   "metadata": {},
   "outputs": [
    {
     "name": "stdout",
     "output_type": "stream",
     "text": [
      "({'level': 'Senior', 'lang': 'Java', 'tweets': 'no', 'phd': 'no'}, False)\n",
      "({'level': 'Senior', 'lang': 'Java', 'tweets': 'no', 'phd': 'yes'}, False)\n",
      "({'level': 'Senior', 'lang': 'Python', 'tweets': 'no', 'phd': 'no'}, False)\n",
      "({'level': 'Senior', 'lang': 'R', 'tweets': 'yes', 'phd': 'no'}, True)\n",
      "({'level': 'Senior', 'lang': 'Python', 'tweets': 'yes', 'phd': 'yes'}, True)\n"
     ]
    }
   ],
   "source": [
    "for data in inputs:\n",
    "    if data[0]['level'] == 'Senior':\n",
    "        print(data)"
   ]
  },
  {
   "cell_type": "code",
   "execution_count": 6,
   "id": "c6b6015c-69f3-442c-979f-e060a0551f1e",
   "metadata": {},
   "outputs": [
    {
     "data": {
      "text/plain": [
       "[({'level': 'Senior', 'lang': 'Java', 'tweets': 'no', 'phd': 'no'}, False),\n",
       " ({'level': 'Senior', 'lang': 'Java', 'tweets': 'no', 'phd': 'yes'}, False),\n",
       " ({'level': 'Senior', 'lang': 'Python', 'tweets': 'no', 'phd': 'no'}, False),\n",
       " ({'level': 'Senior', 'lang': 'R', 'tweets': 'yes', 'phd': 'no'}, True),\n",
       " ({'level': 'Senior', 'lang': 'Python', 'tweets': 'yes', 'phd': 'yes'}, True)]"
      ]
     },
     "execution_count": 6,
     "metadata": {},
     "output_type": "execute_result"
    }
   ],
   "source": [
    "[data for data in inputs if data[0]['level'] == 'Senior']"
   ]
  },
  {
   "cell_type": "code",
   "execution_count": 7,
   "id": "a9e40bb9-46de-4805-b0fc-c4d47c1e7777",
   "metadata": {},
   "outputs": [],
   "source": [
    "class_probabilities = [5/10, 5/10]"
   ]
  },
  {
   "cell_type": "code",
   "execution_count": 8,
   "id": "ce1c9007-1d53-4d3d-b0e8-60327b8dd322",
   "metadata": {},
   "outputs": [],
   "source": [
    "def entropy(class_probabilities): #entropy는 1에 가까울 수록 혼잡하다. 0에 가까울 수록 덜 혼잡\n",
    "    return sum(-p * math.log(p,2) for p in class_probabilities if p)"
   ]
  },
  {
   "cell_type": "code",
   "execution_count": 9,
   "id": "2112f91a-02c9-4548-b1d0-053a5f4ef5da",
   "metadata": {},
   "outputs": [
    {
     "data": {
      "text/plain": [
       "1.0"
      ]
     },
     "execution_count": 9,
     "metadata": {},
     "output_type": "execute_result"
    }
   ],
   "source": [
    "entropy(class_probabilities)"
   ]
  },
  {
   "cell_type": "code",
   "execution_count": 10,
   "id": "b1820c58-2474-469e-a401-45876f68f01d",
   "metadata": {},
   "outputs": [],
   "source": [
    "labeled_data = [data for data in inputs if data[0]['level'] == 'Senior']"
   ]
  },
  {
   "cell_type": "code",
   "execution_count": 11,
   "id": "ac6b27d6-8ce1-468d-a334-c6a35c527a48",
   "metadata": {},
   "outputs": [],
   "source": [
    "labels = [label for _, label in labeled_data]"
   ]
  },
  {
   "cell_type": "code",
   "execution_count": 12,
   "id": "6a1072e4-f5d4-4107-a64d-c706c05e1617",
   "metadata": {},
   "outputs": [
    {
     "name": "stdout",
     "output_type": "stream",
     "text": [
      "{'level': 'Senior', 'lang': 'Java', 'tweets': 'no', 'phd': 'no'} / False\n",
      "{'level': 'Senior', 'lang': 'Java', 'tweets': 'no', 'phd': 'yes'} / False\n",
      "{'level': 'Senior', 'lang': 'Python', 'tweets': 'no', 'phd': 'no'} / False\n",
      "{'level': 'Senior', 'lang': 'R', 'tweets': 'yes', 'phd': 'no'} / True\n",
      "{'level': 'Senior', 'lang': 'Python', 'tweets': 'yes', 'phd': 'yes'} / True\n"
     ]
    }
   ],
   "source": [
    "for data, label in labeled_data:\n",
    "    print(data, '/', label)"
   ]
  },
  {
   "cell_type": "code",
   "execution_count": 13,
   "id": "bbb30679-f0e1-4078-b1b7-e5ed59aabf65",
   "metadata": {},
   "outputs": [
    {
     "data": {
      "text/plain": [
       "Counter({False: 3, True: 2})"
      ]
     },
     "execution_count": 13,
     "metadata": {},
     "output_type": "execute_result"
    }
   ],
   "source": [
    "Counter(labels)"
   ]
  },
  {
   "cell_type": "code",
   "execution_count": 14,
   "id": "26b5155a-7585-4703-a798-5a3e60b8af7b",
   "metadata": {},
   "outputs": [
    {
     "data": {
      "text/plain": [
       "dict_values([3, 2])"
      ]
     },
     "execution_count": 14,
     "metadata": {},
     "output_type": "execute_result"
    }
   ],
   "source": [
    "Counter(labels).values()"
   ]
  },
  {
   "cell_type": "code",
   "execution_count": 15,
   "id": "7de4c272-f48f-41c1-87e9-fe77954475e3",
   "metadata": {},
   "outputs": [],
   "source": [
    "total = len(labels)"
   ]
  },
  {
   "cell_type": "code",
   "execution_count": 16,
   "id": "0422e05c-0c62-48ff-bb0a-93874e8a2b79",
   "metadata": {},
   "outputs": [
    {
     "data": {
      "text/plain": [
       "[0.6, 0.4]"
      ]
     },
     "execution_count": 16,
     "metadata": {},
     "output_type": "execute_result"
    }
   ],
   "source": [
    "[count / total for count in Counter(labels).values()]"
   ]
  },
  {
   "cell_type": "code",
   "execution_count": 17,
   "id": "1d67164c-5740-4af5-abf8-27f551cfd3f7",
   "metadata": {},
   "outputs": [],
   "source": [
    "def class_probabilities(labels):\n",
    "    total = len(labels)\n",
    "    return [count / total for count in Counter(labels).values()]"
   ]
  },
  {
   "cell_type": "code",
   "execution_count": 18,
   "id": "14b61704-798e-40ed-83a2-e5c9212c0d58",
   "metadata": {},
   "outputs": [],
   "source": [
    "def data_entropy(labeled_data) :\n",
    "    label = [label for _, label in labeled_data]\n",
    "    probabilities = class_probabilities(label)\n",
    "    return entropy(probabilities)"
   ]
  },
  {
   "cell_type": "code",
   "execution_count": 19,
   "id": "91d4bf01-f460-4d48-8446-983f2fd4ce99",
   "metadata": {},
   "outputs": [],
   "source": [
    "labeled_data = [data for data in inputs if data[0]['level'] == 'Senior']"
   ]
  },
  {
   "cell_type": "code",
   "execution_count": 20,
   "id": "fea51a12-0759-42f5-a1b0-9ce349e79109",
   "metadata": {},
   "outputs": [
    {
     "data": {
      "text/plain": [
       "[({'level': 'Senior', 'lang': 'Java', 'tweets': 'no', 'phd': 'no'}, False),\n",
       " ({'level': 'Senior', 'lang': 'Java', 'tweets': 'no', 'phd': 'yes'}, False),\n",
       " ({'level': 'Senior', 'lang': 'Python', 'tweets': 'no', 'phd': 'no'}, False),\n",
       " ({'level': 'Senior', 'lang': 'R', 'tweets': 'yes', 'phd': 'no'}, True),\n",
       " ({'level': 'Senior', 'lang': 'Python', 'tweets': 'yes', 'phd': 'yes'}, True)]"
      ]
     },
     "execution_count": 20,
     "metadata": {},
     "output_type": "execute_result"
    }
   ],
   "source": [
    "labeled_data"
   ]
  },
  {
   "cell_type": "code",
   "execution_count": 21,
   "id": "6fa64346-d889-458a-973f-521f8c874e65",
   "metadata": {},
   "outputs": [],
   "source": [
    "labeled_data = [data for data in inputs if data[0]['level'] == 'Senior']"
   ]
  },
  {
   "cell_type": "code",
   "execution_count": 22,
   "id": "3164b8b0-d94c-4828-baca-5cf913b31a8b",
   "metadata": {},
   "outputs": [],
   "source": [
    "labeled_data = [data for data in inputs if data[0]['level'] == 'Senior']"
   ]
  },
  {
   "cell_type": "code",
   "execution_count": 23,
   "id": "f53e6c49-514a-44be-bc58-468049eed250",
   "metadata": {},
   "outputs": [
    {
     "data": {
      "text/plain": [
       "0.9709505944546686"
      ]
     },
     "execution_count": 23,
     "metadata": {},
     "output_type": "execute_result"
    }
   ],
   "source": [
    "data_entropy(labeled_data)"
   ]
  },
  {
   "cell_type": "code",
   "execution_count": 24,
   "id": "7e4c3320-959e-427c-8885-ce92d0ec6b00",
   "metadata": {},
   "outputs": [],
   "source": [
    "temp = defaultdict(list)"
   ]
  },
  {
   "cell_type": "code",
   "execution_count": 25,
   "id": "831a3e82-1131-4919-be61-ae99a2119ffd",
   "metadata": {},
   "outputs": [
    {
     "data": {
      "text/plain": [
       "[]"
      ]
     },
     "execution_count": 25,
     "metadata": {},
     "output_type": "execute_result"
    }
   ],
   "source": [
    "temp['a'] #디폴트 값이 들어감 원래대로라면 그냥은 값이 없어서 에러 남."
   ]
  },
  {
   "cell_type": "code",
   "execution_count": 26,
   "id": "cc4eec4f-79b1-4cb9-9f30-30b93d018a04",
   "metadata": {},
   "outputs": [],
   "source": [
    "def partition_by(inputs, attribute):\n",
    "    groups = defaultdict(list)\n",
    "    for i in inputs :\n",
    "        key = i[0][attribute]\n",
    "        groups[key].append(i)\n",
    "    return groups"
   ]
  },
  {
   "cell_type": "code",
   "execution_count": 27,
   "id": "9a110e67-c3e6-45d8-95b0-d214f5288763",
   "metadata": {
    "tags": []
   },
   "outputs": [
    {
     "name": "stdout",
     "output_type": "stream",
     "text": [
      "---------------------------------\n",
      "level dict_keys(['Senior', 'Mid', 'Junior'])\n",
      "---------------------------------\n",
      "---------------------------------\n",
      "lang dict_keys(['Java', 'Python', 'R'])\n",
      "---------------------------------\n",
      "---------------------------------\n",
      "tweets dict_keys(['no', 'yes'])\n",
      "---------------------------------\n",
      "---------------------------------\n",
      "phd dict_keys(['no', 'yes'])\n",
      "---------------------------------\n"
     ]
    }
   ],
   "source": [
    "for key in ['level', 'lang', 'tweets', 'phd']:\n",
    "    # print(key, partition_by(inputs,key))\n",
    "    print('---------------------------------')\n",
    "    print(key, partition_by(inputs,key).keys())\n",
    "    print('---------------------------------')\n",
    "    # print(key, partition_by(inputs,key).values())"
   ]
  },
  {
   "cell_type": "code",
   "execution_count": 28,
   "id": "9fa3918d-fa74-426a-ad6c-803d11d9363d",
   "metadata": {},
   "outputs": [],
   "source": [
    "subsets= partition_by(inputs, 'level').values()"
   ]
  },
  {
   "cell_type": "code",
   "execution_count": 29,
   "id": "e55952d4-3497-4bf2-9a92-6afb8b0d653e",
   "metadata": {},
   "outputs": [],
   "source": [
    "total_count = sum(len(subset) for subset in subsets)"
   ]
  },
  {
   "cell_type": "code",
   "execution_count": 30,
   "id": "420ad37f-3631-479a-8c16-92808c86d3c2",
   "metadata": {},
   "outputs": [
    {
     "data": {
      "text/plain": [
       "14"
      ]
     },
     "execution_count": 30,
     "metadata": {},
     "output_type": "execute_result"
    }
   ],
   "source": [
    "total_count"
   ]
  },
  {
   "cell_type": "code",
   "execution_count": 31,
   "id": "2c1beca1-8890-4c36-8d80-aaa4288e4d2d",
   "metadata": {},
   "outputs": [
    {
     "data": {
      "text/plain": [
       "0.6935361388961918"
      ]
     },
     "execution_count": 31,
     "metadata": {},
     "output_type": "execute_result"
    }
   ],
   "source": [
    "sum(len(subset) / total_count * data_entropy(subset) for subset in subsets)"
   ]
  },
  {
   "cell_type": "code",
   "execution_count": 32,
   "id": "6fc450e9-1601-4305-9c9b-00d101ea4856",
   "metadata": {},
   "outputs": [
    {
     "name": "stdout",
     "output_type": "stream",
     "text": [
      "0.9709505944546686\n",
      "0.0\n",
      "0.9709505944546686\n"
     ]
    }
   ],
   "source": [
    "for subset in subsets :\n",
    "    print(data_entropy(subset))"
   ]
  },
  {
   "cell_type": "code",
   "execution_count": 33,
   "id": "cea1491b-0ec5-4da8-bde2-1c11d633defc",
   "metadata": {},
   "outputs": [
    {
     "data": {
      "text/plain": [
       "9"
      ]
     },
     "execution_count": 33,
     "metadata": {},
     "output_type": "execute_result"
    }
   ],
   "source": [
    "sum(len(subsets) for subset in subsets)"
   ]
  },
  {
   "cell_type": "code",
   "execution_count": 50,
   "id": "e1df9324-ec85-425d-a7e9-9ceb32bda61b",
   "metadata": {},
   "outputs": [],
   "source": [
    "def partition_entropy(subsets):\n",
    "    total_count = sum(len(subset) for subset in subsets)\n",
    "    return sum(len(subset) / total_count * data_entropy(subset) for subset in subsets)"
   ]
  },
  {
   "cell_type": "code",
   "execution_count": 51,
   "id": "1e6b2f3f-d2c7-42b9-85bb-80a5e40d6315",
   "metadata": {},
   "outputs": [],
   "source": [
    "def partition_entropy_by(inputs, attribute):\n",
    "    partitions = partition_by(inputs, attribute)\n",
    "    return partition_entropy(partitions.values())"
   ]
  },
  {
   "cell_type": "code",
   "execution_count": 63,
   "id": "28517266-3ab7-47d0-af44-1c15e3bceb08",
   "metadata": {},
   "outputs": [
    {
     "name": "stdout",
     "output_type": "stream",
     "text": [
      "level 0.6935361388961918\n",
      "lang 0.8601317128547441\n",
      "tweets 0.7884504573082896\n",
      "phd 0.8921589282623617\n"
     ]
    }
   ],
   "source": [
    "for key in ['level', 'lang', 'tweets', 'phd']:\n",
    "    print(key, partition_entropy_by(inputs,key))"
   ]
  },
  {
   "cell_type": "code",
   "execution_count": 64,
   "id": "c898fe09-4a85-44e4-ba6e-5456de76ae24",
   "metadata": {},
   "outputs": [],
   "source": [
    "mid_inputs = [(data, label) for data, label in inputs if data['level'] == 'Mid']"
   ]
  },
  {
   "cell_type": "code",
   "execution_count": 65,
   "id": "91893e75-3850-4c02-a6e9-983f08e582d8",
   "metadata": {},
   "outputs": [
    {
     "name": "stdout",
     "output_type": "stream",
     "text": [
      "lang 0.0\n",
      "tweets 0.0\n",
      "phd 0.0\n"
     ]
    }
   ],
   "source": [
    "for key in ['lang', 'tweets', 'phd']:\n",
    "    print(key, partition_entropy_by(mid_inputs,key))"
   ]
  },
  {
   "cell_type": "code",
   "execution_count": 66,
   "id": "c09df932-769b-4ae7-ac0c-f9d7ff2f9e42",
   "metadata": {},
   "outputs": [],
   "source": [
    "senior_inputs = [(data, label) for data, label in inputs if data['level'] == 'Senior']"
   ]
  },
  {
   "cell_type": "code",
   "execution_count": 67,
   "id": "908c46a7-4838-4956-9650-137d4fdae8fe",
   "metadata": {},
   "outputs": [
    {
     "name": "stdout",
     "output_type": "stream",
     "text": [
      "lang 0.4\n",
      "tweets 0.0\n",
      "phd 0.9509775004326937\n"
     ]
    }
   ],
   "source": [
    "for key in ['lang', 'tweets', 'phd']:\n",
    "    print(key, partition_entropy_by(senior_inputs,key))"
   ]
  },
  {
   "cell_type": "code",
   "execution_count": 68,
   "id": "a694accb-2c53-4839-afab-e3541974ff6a",
   "metadata": {},
   "outputs": [],
   "source": [
    "junior_inputs = [(data, label) for data, label in inputs if data['level'] == 'Junior']"
   ]
  },
  {
   "cell_type": "code",
   "execution_count": 69,
   "id": "63c94c24-32cf-4a51-bb95-0ac20a01f3f2",
   "metadata": {},
   "outputs": [
    {
     "name": "stdout",
     "output_type": "stream",
     "text": [
      "lang 0.9509775004326937\n",
      "tweets 0.9509775004326937\n",
      "phd 0.0\n"
     ]
    }
   ],
   "source": [
    "for key in ['lang', 'tweets', 'phd']:\n",
    "    print(key, partition_entropy_by(junior_inputs,key))"
   ]
  },
  {
   "cell_type": "code",
   "execution_count": 70,
   "id": "1844ecc6-3633-4d78-a887-74d15473b4c9",
   "metadata": {},
   "outputs": [],
   "source": [
    "def func_test(x) :\n",
    "    if x < 0 :\n",
    "        return 0\n",
    "    x = x-1\n",
    "    print(x)\n",
    "    x = func_test(x)\n",
    "    return x"
   ]
  },
  {
   "cell_type": "code",
   "execution_count": 44,
   "id": "af0b7f69-c053-456f-bce4-c3ea26532d2d",
   "metadata": {
    "tags": []
   },
   "outputs": [
    {
     "name": "stdout",
     "output_type": "stream",
     "text": [
      "9\n",
      "8\n",
      "7\n",
      "6\n",
      "5\n",
      "4\n",
      "3\n",
      "2\n",
      "1\n",
      "0\n",
      "-1\n"
     ]
    },
    {
     "data": {
      "text/plain": [
       "0"
      ]
     },
     "execution_count": 44,
     "metadata": {},
     "output_type": "execute_result"
    }
   ],
   "source": [
    "func_test(10)"
   ]
  },
  {
   "cell_type": "code",
   "execution_count": 45,
   "id": "d0e20731-3f8e-4515-b0e8-9c8dc23bace9",
   "metadata": {},
   "outputs": [
    {
     "data": {
      "text/plain": [
       "[({'level': 'Senior', 'lang': 'Java', 'tweets': 'no', 'phd': 'no'}, False),\n",
       " ({'level': 'Senior', 'lang': 'Java', 'tweets': 'no', 'phd': 'yes'}, False),\n",
       " ({'level': 'Mid', 'lang': 'Python', 'tweets': 'no', 'phd': 'no'}, True),\n",
       " ({'level': 'Junior', 'lang': 'Python', 'tweets': 'no', 'phd': 'no'}, True),\n",
       " ({'level': 'Junior', 'lang': 'R', 'tweets': 'yes', 'phd': 'no'}, True),\n",
       " ({'level': 'Junior', 'lang': 'R', 'tweets': 'yes', 'phd': 'yes'}, False),\n",
       " ({'level': 'Mid', 'lang': 'R', 'tweets': 'yes', 'phd': 'yes'}, True),\n",
       " ({'level': 'Senior', 'lang': 'Python', 'tweets': 'no', 'phd': 'no'}, False),\n",
       " ({'level': 'Senior', 'lang': 'R', 'tweets': 'yes', 'phd': 'no'}, True),\n",
       " ({'level': 'Junior', 'lang': 'Python', 'tweets': 'yes', 'phd': 'no'}, True),\n",
       " ({'level': 'Senior', 'lang': 'Python', 'tweets': 'yes', 'phd': 'yes'}, True),\n",
       " ({'level': 'Mid', 'lang': 'Python', 'tweets': 'no', 'phd': 'yes'}, True),\n",
       " ({'level': 'Mid', 'lang': 'Java', 'tweets': 'yes', 'phd': 'no'}, True),\n",
       " ({'level': 'Junior', 'lang': 'Python', 'tweets': 'no', 'phd': 'yes'}, False)]"
      ]
     },
     "execution_count": 45,
     "metadata": {},
     "output_type": "execute_result"
    }
   ],
   "source": [
    "inputs"
   ]
  },
  {
   "cell_type": "code",
   "execution_count": 71,
   "id": "58fd4002-ff9c-4e20-84b9-6cfceca6a67f",
   "metadata": {},
   "outputs": [],
   "source": [
    "test = ['abc12321', 'abc2132d', 'abcde', 'abcdef']"
   ]
  },
  {
   "cell_type": "code",
   "execution_count": 72,
   "id": "c0c40de2-1db4-4478-97f1-e94c355a46e8",
   "metadata": {},
   "outputs": [
    {
     "data": {
      "text/plain": [
       "'abcde'"
      ]
     },
     "execution_count": 72,
     "metadata": {},
     "output_type": "execute_result"
    }
   ],
   "source": [
    "min(test, key=len)"
   ]
  },
  {
   "cell_type": "code",
   "execution_count": 78,
   "id": "1b8739c8-212c-499e-9782-5d94544a0616",
   "metadata": {},
   "outputs": [],
   "source": [
    "def build_tree_id3(inputs, split_candidates=None):\n",
    "    if split_candidates is None :\n",
    "        split_candidates = inputs[0][0].keys()\n",
    "        #['level', 'lang', 'tweets', 'phd']\n",
    "        \n",
    "    num_inputs = len(inputs) # 14\n",
    "    num_trues = len([label for _, label in inputs if label])\n",
    "    num_falses = num_inputs - num_trues\n",
    "    \n",
    "    if not split_candidates :\n",
    "        return num_trues >= num_falses\n",
    "    \n",
    "    best_attribute = min(split_candidates, key = partial(partition_entropy_by, inputs))\n",
    "    \n",
    "    partitions = partition_by(inputs, best_attribute)\n",
    "    new_candidataes = [a for a in split_candidates if a != best_attribute]\n",
    "    \n",
    "    subtrees = {attribute_value : build_tree_id3(subset, new_candidataes) for attribute_value, subset in partitions.items()}\n",
    "    \n",
    "    subtrees[None] = num_trues > num_falses\n",
    "    return best_attribute, subtrees"
   ]
  },
  {
   "cell_type": "code",
   "execution_count": 79,
   "id": "0ed1a511-69c0-4e53-9874-bcf13cb21769",
   "metadata": {},
   "outputs": [
    {
     "data": {
      "text/plain": [
       "('level',\n",
       " {'Senior': ('tweets',\n",
       "   {'no': ('lang',\n",
       "     {'Java': ('phd', {'no': False, 'yes': False, None: False}),\n",
       "      'Python': ('phd', {'no': False, None: False}),\n",
       "      None: False}),\n",
       "    'yes': ('lang',\n",
       "     {'R': ('phd', {'no': True, None: True}),\n",
       "      'Python': ('phd', {'yes': True, None: True}),\n",
       "      None: True}),\n",
       "    None: False}),\n",
       "  'Mid': ('lang',\n",
       "   {'Python': ('tweets',\n",
       "     {'no': ('phd', {'no': True, 'yes': True, None: True}), None: True}),\n",
       "    'R': ('tweets', {'yes': ('phd', {'yes': True, None: True}), None: True}),\n",
       "    'Java': ('tweets', {'yes': ('phd', {'no': True, None: True}), None: True}),\n",
       "    None: True}),\n",
       "  'Junior': ('phd',\n",
       "   {'no': ('lang',\n",
       "     {'Python': ('tweets', {'no': True, 'yes': True, None: True}),\n",
       "      'R': ('tweets', {'yes': True, None: True}),\n",
       "      None: True}),\n",
       "    'yes': ('lang',\n",
       "     {'R': ('tweets', {'yes': False, None: False}),\n",
       "      'Python': ('tweets', {'no': False, None: False}),\n",
       "      None: False}),\n",
       "    None: True}),\n",
       "  None: True})"
      ]
     },
     "execution_count": 79,
     "metadata": {},
     "output_type": "execute_result"
    }
   ],
   "source": [
    "build_tree_id3(inputs)"
   ]
  },
  {
   "cell_type": "code",
   "execution_count": 80,
   "id": "58b8f307-8e55-464b-85b0-cce24f7e6c31",
   "metadata": {},
   "outputs": [],
   "source": [
    "def classify(tree, x):\n",
    "    if tree in [True, False]:\n",
    "        return tree\n",
    "    \n",
    "    attribute, subtree_dict = tree\n",
    "    #level {}\n",
    "    \n",
    "    subtree_key = x[attribute]\n",
    "    # Junior\n",
    "    \n",
    "    if subtree_key not in subtree_dict:\n",
    "        subtree_key = None\n",
    "    \n",
    "    subtree = subtree_dict[subtree_key]\n",
    "    \n",
    "    return classify(subtree, x)"
   ]
  },
  {
   "cell_type": "code",
   "execution_count": 81,
   "id": "ab3d1c2c-9991-42c3-ac5b-1aa949de7d44",
   "metadata": {},
   "outputs": [],
   "source": [
    "tree = build_tree_id3(inputs)"
   ]
  },
  {
   "cell_type": "code",
   "execution_count": 82,
   "id": "1220c478-018d-4e01-babe-d17e46c06093",
   "metadata": {},
   "outputs": [
    {
     "data": {
      "text/plain": [
       "True"
      ]
     },
     "execution_count": 82,
     "metadata": {},
     "output_type": "execute_result"
    }
   ],
   "source": [
    "classify(tree, {'level': 'Junior', 'lang': 'Java', 'tweets': 'yes', 'phd': 'no'})"
   ]
  },
  {
   "cell_type": "code",
   "execution_count": null,
   "id": "de0eab5a-4348-4ab3-8cbe-3b2fafa641a4",
   "metadata": {},
   "outputs": [],
   "source": []
  }
 ],
 "metadata": {
  "kernelspec": {
   "display_name": "Python 3 (ipykernel)",
   "language": "python",
   "name": "python3"
  },
  "language_info": {
   "codemirror_mode": {
    "name": "ipython",
    "version": 3
   },
   "file_extension": ".py",
   "mimetype": "text/x-python",
   "name": "python",
   "nbconvert_exporter": "python",
   "pygments_lexer": "ipython3",
   "version": "3.9.12"
  }
 },
 "nbformat": 4,
 "nbformat_minor": 5
}
